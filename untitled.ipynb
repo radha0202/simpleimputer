{
 "cells": [
  {
   "cell_type": "code",
   "execution_count": 1,
   "id": "108ea2f9",
   "metadata": {},
   "outputs": [
    {
     "name": "stdout",
     "output_type": "stream",
     "text": [
      "Original Data:\n",
      "   Id  SepalLengthCm  SepalWidthCm  PetalLengthCm  PetalWidthCm      Species\n",
      "0   1            5.1           3.5            1.4           0.2  Iris-setosa\n",
      "1   2            4.9           3.0            1.4           0.2  Iris-setosa\n",
      "2   3            4.7           3.2            1.3           0.2  Iris-setosa\n",
      "3   4            4.6           3.1            1.5           0.2  Iris-setosa\n",
      "4   5            5.0           3.6            1.4           0.2  Iris-setosa\n",
      "\n",
      "Null values in each column before imputation:\n",
      "Id               0\n",
      "SepalLengthCm    2\n",
      "SepalWidthCm     0\n",
      "PetalLengthCm    2\n",
      "PetalWidthCm     3\n",
      "Species          0\n",
      "dtype: int64\n",
      "\n",
      "Data after imputation:\n",
      "    Id  SepalLengthCm  SepalWidthCm  PetalLengthCm  PetalWidthCm      Species\n",
      "0  1.0            5.1           3.5            1.4           0.2  Iris-setosa\n",
      "1  2.0            4.9           3.0            1.4           0.2  Iris-setosa\n",
      "2  3.0            4.7           3.2            1.3           0.2  Iris-setosa\n",
      "3  4.0            4.6           3.1            1.5           0.2  Iris-setosa\n",
      "4  5.0            5.0           3.6            1.4           0.2  Iris-setosa\n",
      "\n",
      "Null values in each column after imputation:\n",
      "Id               0\n",
      "SepalLengthCm    0\n",
      "SepalWidthCm     0\n",
      "PetalLengthCm    0\n",
      "PetalWidthCm     0\n",
      "Species          0\n",
      "dtype: int64\n"
     ]
    }
   ],
   "source": [
    "import pandas as pd\n",
    "from sklearn.impute import SimpleImputer\n",
    "iris_data = pd.read_csv('Iris1.csv')\n",
    "print(\"Original Data:\")\n",
    "print(iris_data.head())\n",
    "print(\"\\nNull values in each column before imputation:\")\n",
    "print(iris_data.isnull().sum())\n",
    "imputer = SimpleImputer(strategy='mean')\n",
    "iris_data_imputed = pd.DataFrame(imputer.fit_transform(iris_data.iloc[:, :-1]), columns=iris_data.columns[:-1])\n",
    "iris_data_imputed['Species'] = iris_data['Species']\n",
    "print(\"\\nData after imputation:\")\n",
    "print(iris_data_imputed.head())\n",
    "print(\"\\nNull values in each column after imputation:\")\n",
    "print(iris_data_imputed.isnull().sum())"
   ]
  },
  {
   "cell_type": "code",
   "execution_count": null,
   "id": "384c350a",
   "metadata": {},
   "outputs": [],
   "source": []
  }
 ],
 "metadata": {
  "kernelspec": {
   "display_name": "Python 3 (ipykernel)",
   "language": "python",
   "name": "python3"
  },
  "language_info": {
   "codemirror_mode": {
    "name": "ipython",
    "version": 3
   },
   "file_extension": ".py",
   "mimetype": "text/x-python",
   "name": "python",
   "nbconvert_exporter": "python",
   "pygments_lexer": "ipython3",
   "version": "3.9.12"
  }
 },
 "nbformat": 4,
 "nbformat_minor": 5
}
